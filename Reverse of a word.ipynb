{
 "cells": [
  {
   "cell_type": "markdown",
   "id": "133a917c",
   "metadata": {},
   "source": [
    "# Write a Python program that accepts a word from the user and reverse it.\n",
    "\n"
   ]
  },
  {
   "cell_type": "code",
   "execution_count": 2,
   "id": "7f9d0353",
   "metadata": {},
   "outputs": [
    {
     "name": "stdout",
     "output_type": "stream",
     "text": [
      "enter a word : lakshmi\n",
      "The reverse of a word : imhskal \n"
     ]
    }
   ],
   "source": [
    "x=input(\"enter a word : \")\n",
    "y=\" \"\n",
    "for i in x:\n",
    "    y=i+y\n",
    "print(\"The reverse of a word :\",y)"
   ]
  },
  {
   "cell_type": "code",
   "execution_count": null,
   "id": "7b6f2585",
   "metadata": {},
   "outputs": [],
   "source": []
  }
 ],
 "metadata": {
  "kernelspec": {
   "display_name": "Python 3 (ipykernel)",
   "language": "python",
   "name": "python3"
  },
  "language_info": {
   "codemirror_mode": {
    "name": "ipython",
    "version": 3
   },
   "file_extension": ".py",
   "mimetype": "text/x-python",
   "name": "python",
   "nbconvert_exporter": "python",
   "pygments_lexer": "ipython3",
   "version": "3.11.1"
  }
 },
 "nbformat": 4,
 "nbformat_minor": 5
}
