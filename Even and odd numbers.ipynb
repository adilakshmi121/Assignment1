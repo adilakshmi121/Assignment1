{
 "cells": [
  {
   "cell_type": "markdown",
   "id": "c8c94d24",
   "metadata": {},
   "source": [
    "# Write a Python program to count the number of even and odd numbers from a series of numbers."
   ]
  },
  {
   "cell_type": "code",
   "execution_count": 2,
   "id": "96f3c478",
   "metadata": {},
   "outputs": [
    {
     "name": "stdout",
     "output_type": "stream",
     "text": [
      "enter a series of numbers :1,2,3,4,5,6,7,8,9\n",
      "Number of even numbers in given series : 4\n",
      "Number of odd numbers in given series : 5\n"
     ]
    }
   ],
   "source": [
    "x=eval(input(\"enter a series of numbers :\"))\n",
    "count_even=0\n",
    "count_odd=0\n",
    "for i in x:\n",
    "    if i%2==0:\n",
    "        count_even=count_even+1\n",
    "    else:\n",
    "        count_odd=count_odd+1\n",
    "print(\"Number of even numbers in given series :\" ,count_even)\n",
    "print(\"Number of odd numbers in given series :\" ,count_odd)"
   ]
  },
  {
   "cell_type": "code",
   "execution_count": null,
   "id": "547690c7",
   "metadata": {},
   "outputs": [],
   "source": []
  }
 ],
 "metadata": {
  "kernelspec": {
   "display_name": "Python 3 (ipykernel)",
   "language": "python",
   "name": "python3"
  },
  "language_info": {
   "codemirror_mode": {
    "name": "ipython",
    "version": 3
   },
   "file_extension": ".py",
   "mimetype": "text/x-python",
   "name": "python",
   "nbconvert_exporter": "python",
   "pygments_lexer": "ipython3",
   "version": "3.11.1"
  }
 },
 "nbformat": 4,
 "nbformat_minor": 5
}
